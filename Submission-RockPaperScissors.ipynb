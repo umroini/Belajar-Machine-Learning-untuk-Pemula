{
  "nbformat": 4,
  "nbformat_minor": 0,
  "metadata": {
    "colab": {
      "provenance": [],
      "authorship_tag": "ABX9TyNXfG3Mgfh8Hi18yxI/GT3C",
      "include_colab_link": true
    },
    "kernelspec": {
      "name": "python3",
      "display_name": "Python 3"
    },
    "language_info": {
      "name": "python"
    }
  },
  "cells": [
    {
      "cell_type": "markdown",
      "metadata": {
        "id": "view-in-github",
        "colab_type": "text"
      },
      "source": [
        "<a href=\"https://colab.research.google.com/github/umroini/Belajar-Machine-Learning-untuk-Pemula/blob/main/Submission-RockPaperScissors.ipynb\" target=\"_parent\"><img src=\"https://colab.research.google.com/assets/colab-badge.svg\" alt=\"Open In Colab\"/></a>"
      ]
    },
    {
      "cell_type": "markdown",
      "source": [
        "## **Belajar Machine Learning untuk Pemula**\n",
        "\n",
        "---\n",
        "Proyek Akhir : Klasifikasi Gambar\n",
        "\n",
        "\n",
        "Nama : Umroini\n",
        "\n"
      ],
      "metadata": {
        "id": "plTsB20yrFLb"
      }
    },
    {
      "cell_type": "code",
      "source": [
        "!wget --no-check-certificate \\\n",
        "https://github.com/dicodingacademy/assets/releases/download/release/rockpaperscissors.zip"
      ],
      "metadata": {
        "colab": {
          "base_uri": "https://localhost:8080/"
        },
        "id": "EJ7mY0dOuJIC",
        "outputId": "c3bc5451-c113-4b94-caaa-9952d8d788a8"
      },
      "execution_count": 4,
      "outputs": [
        {
          "output_type": "stream",
          "name": "stdout",
          "text": [
            "--2023-12-26 01:36:45--  http://%5C/\n",
            "Resolving \\\\ (\\\\)... failed: Name or service not known.\n",
            "wget: unable to resolve host address ‘\\\\’\n"
          ]
        }
      ]
    },
    {
      "cell_type": "code",
      "source": [
        "import zipfile\n",
        "local_zip = '/tmp/rockpaperscissors.zip'\n",
        "zip_ref = zipfile.ZipFile(local_zip,'r')\n",
        "zip_ref.extractall('/tmp')\n",
        "zip_ref.close()"
      ],
      "metadata": {
        "id": "4almApTRxF8J"
      },
      "execution_count": null,
      "outputs": []
    },
    {
      "cell_type": "code",
      "source": [
        "import os\n",
        "base_dir = '/tmp/roclpaperscissors'\n",
        "\n",
        "train_dir = os.path.join(base_dir, 'train')\n",
        "validation_dir = os.path.join(base_dir, 'val')\n",
        "\n",
        "rock_train_dir = os.path.join(train_dir, 'rock')\n",
        "paper_train_dir = os.path.join(train_dir, 'paper')\n",
        "scissors_train_dir = os.path.join(train_dir, 'scissors')\n",
        "\n",
        "rock_validation_dir = os.path.join(validation_dir, 'rock')\n",
        "paper_validation_dir = os.path.join(validation_dir, 'paper')\n",
        "scissors_validation_dir = os.path.join(validation_dir, 'scissors')"
      ],
      "metadata": {
        "id": "TZ8_DLdXx573"
      },
      "execution_count": null,
      "outputs": []
    },
    {
      "cell_type": "code",
      "source": [
        "from genericpath import exists\n",
        "dirs = [train_dir, validation_dir, rock_train_dir, paper_train_dir, scissors_train_dir, rock_train_dir, paper_validation_dir, scissors_validation_dir]\n",
        "for dir in dirs:\n",
        "    if not os.path,exists(dir):\n",
        "        os.mkdir(dir)"
      ],
      "metadata": {
        "id": "lRHMshKrzsQN"
      },
      "execution_count": null,
      "outputs": []
    },
    {
      "cell_type": "code",
      "source": [
        "import shutil\n",
        "\n",
        "rock_dir = f'{base_dir}/rock'\n",
        "paper_dir = f'{base_dir}/paper'\n",
        "scissors_dir = f'{base_dir}/scissors'\n",
        "\n",
        "\n",
        "image_dirs = [rock_dir, paper_dir, scissors_dir]\n",
        "for dir in image_dirs:\n",
        "    file_list = os.listdir(dir)\n",
        "\n",
        "    total_files = len(file_list)\n",
        "    val_set = int(0.4 * total_files)\n",
        "\n",
        "    for file_name in file_list[:val_set]:\n",
        "        if dir.endswith(\"rock\"):\n",
        "            source_path = os.path.join(rock_dir, file_name)\n",
        "            destination_path = os.path.join(rock_validation_dir)"
      ],
      "metadata": {
        "id": "_zrkfMF21FUA"
      },
      "execution_count": null,
      "outputs": []
    }
  ]
}